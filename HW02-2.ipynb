{
 "cells": [
  {
   "cell_type": "code",
   "execution_count": 12,
   "id": "48a0d6dc-e21b-49e1-81a7-a09a1cc97fb9",
   "metadata": {},
   "outputs": [],
   "source": [
    "# 1. finding the general form of a function and its inverse"
   ]
  },
  {
   "cell_type": "code",
   "execution_count": 9,
   "id": "9cfee633-7f17-4493-bacb-455f2e081100",
   "metadata": {},
   "outputs": [
    {
     "name": "stdout",
     "output_type": "stream",
     "text": [
      "found 2 solutions for x:\n",
      "(k - sqrt(k**2 - 4*k*y + 4*y))/(2*(k - 1))\n",
      "(k + sqrt(k**2 - 4*k*y + 4*y))/(2*(k - 1))\n"
     ]
    }
   ],
   "source": [
    "from __future__ import print_function # still using Python 2.7\n",
    "import sympy\n",
    "\n",
    "# create a symbolic variable for each symbol in our equation  \n",
    "y, x, k = sympy.symbols('y, x, k', real=True)\n",
    "\n",
    "# define the equation y = kx - (1-k)x^2\n",
    "fwd_equation = sympy.Eq(y, k*x - (k - 1)*x**2)\n",
    "\n",
    "# solve the equation for x and print solutions\n",
    "inverse = sympy.solve(fwd_equation, x)\n",
    "print('found {} solutions for x:'.format(len(inverse)))\n",
    "print('\\n'.join([str(s) for s in inverse]))"
   ]
  },
  {
   "cell_type": "code",
   "execution_count": 10,
   "id": "0d7020a0-029b-4c77-83d6-3468dd6ed74c",
   "metadata": {},
   "outputs": [
    {
     "name": "stdout",
     "output_type": "stream",
     "text": [
      "1.5 - 1.5*sqrt(1 - 0.888888888888889*y)\n",
      "1.83333333333333 - 1.83333333333333*sqrt(1 - 0.793388429752066*y)\n"
     ]
    }
   ],
   "source": [
    "print(inverse[0].subs(k, 1.5).simplify())\n",
    "print(inverse[0].subs(k, 1.375).simplify())"
   ]
  },
  {
   "cell_type": "code",
   "execution_count": 11,
   "id": "193e36ac-4e36-4614-999e-a35b042d008a",
   "metadata": {},
   "outputs": [
    {
     "name": "stdout",
     "output_type": "stream",
     "text": [
      "x = \\frac{k - \\sqrt{k^{2} - 4 k y + 4 y}}{2 \\left(k - 1\\right)}\n"
     ]
    }
   ],
   "source": [
    "print('x =', sympy.latex(inverse[0]))  "
   ]
  },
  {
   "cell_type": "code",
   "execution_count": null,
   "id": "58427cf5-3eb6-4b88-b8d4-9b0f6ca35996",
   "metadata": {},
   "outputs": [],
   "source": [
    "#2.solving systems of equations"
   ]
  },
  {
   "cell_type": "code",
   "execution_count": 13,
   "id": "ea5813ad-714c-4b17-9059-c27660468869",
   "metadata": {},
   "outputs": [
    {
     "name": "stdout",
     "output_type": "stream",
     "text": [
      "found 2 solutions for lQ:\n",
      "{x₁: -cos(p), y₁: -│sin(p)│, z₁: 0}\n",
      "{x₁: -cos(p), y₁: │sin(p)│, z₁: 0}\n",
      "now lQ is Matrix([[-cos(p)], [Abs(sin(p))], [0]])\n"
     ]
    }
   ],
   "source": [
    "from __future__ import print_function # still using Python 2.7\n",
    "import sympy\n",
    "\n",
    "# create some symbols for angles\n",
    "p, q, r = sympy.symbols('p, q, r', real=True)\n",
    "\n",
    "# create some symbols for unknown elements of lQ\n",
    "x1, y1, z1 = sympy.symbols('x1, y1, z1')\n",
    "\n",
    "# define vectors we know so far\n",
    "P = sympy.Matrix([0, 0, 1])\n",
    "lR = sympy.Matrix([1, 0, 0])\n",
    "lQ = sympy.Matrix([x1, y1, z1])\n",
    "\n",
    "lQ_equations = [\n",
    "    sympy.Eq(lQ.dot(P), 0),              # lQ contains P\n",
    "    sympy.Eq(lQ.dot(lR), -sympy.cos(p)), # angle at point P\n",
    "    sympy.Eq(lQ.dot(lQ), 1)              # lQ is a unit vector\n",
    "]\n",
    "\n",
    "S = sympy.solve(lQ_equations, x1, y1, z1, dict=True, simplify=True)\n",
    "print('found {} solutions for lQ:'.format(len(S)))\n",
    "print('\\n'.join([sympy.pretty(sln) for sln in S])) # ask for pretty output\n",
    "\n",
    "lQ = lQ.subs(S[1])\n",
    "print('now lQ is {}'.format(lQ))"
   ]
  },
  {
   "cell_type": "code",
   "execution_count": 14,
   "id": "585a101d-6de1-46fd-b895-730ca86e6077",
   "metadata": {},
   "outputs": [
    {
     "name": "stdout",
     "output_type": "stream",
     "text": [
      "after subbing out abs, lQ is Matrix([[-cos(p)], [sin(p)], [0]])\n"
     ]
    }
   ],
   "source": [
    "lQ = lQ.subs(sympy.Abs(sympy.sin(p)), sympy.sin(p))\n",
    "print('after subbing out abs, lQ is {}'.format(lQ))"
   ]
  },
  {
   "cell_type": "code",
   "execution_count": 17,
   "id": "6953678d-ebfa-4408-9b27-b6c15b33b972",
   "metadata": {},
   "outputs": [
    {
     "name": "stdout",
     "output_type": "stream",
     "text": [
      "checking our work:\n",
      "  lQ . P  = 0\n",
      "  lQ . lR = -cos(p)\n",
      "  lQ . lQ = sin(p)**2 + cos(p)**2\n"
     ]
    }
   ],
   "source": [
    "print('checking our work:')\n",
    "print('  lQ . P  =', lQ.dot(P))\n",
    "print('  lQ . lR =', lQ.dot(lR))\n",
    "print('  lQ . lQ =', lQ.dot(lQ))"
   ]
  },
  {
   "cell_type": "code",
   "execution_count": 18,
   "id": "69bb712c-a6a5-47e9-8d7a-06d9e8fca4db",
   "metadata": {},
   "outputs": [
    {
     "name": "stdout",
     "output_type": "stream",
     "text": [
      "  lQ . lQ = 1\n"
     ]
    }
   ],
   "source": [
    "print('  lQ . lQ =', lQ.dot(lQ).simplify())"
   ]
  },
  {
   "cell_type": "code",
   "execution_count": 21,
   "id": "a961a179-1f49-4007-87ff-1d4f2473b57e",
   "metadata": {},
   "outputs": [
    {
     "name": "stdout",
     "output_type": "stream",
     "text": [
      "||lP||^2 = 1\n",
      "got 1 solutions for lP\n",
      "⎧                 -(cos(p)⋅cos(q) + cos(r)) ⎫\n",
      "⎨x₂: -cos(q), y₂: ──────────────────────────⎬\n",
      "⎩                           sin(p)          ⎭\n",
      "now lP is Matrix([[-cos(q)], [-(cos(p)*cos(q) + cos(r))/sin(p)], [sqrt(-(cos(p)*cos(q) + cos(r))**2/sin(p)**2 - cos(q)**2 + 1)]])\n"
     ]
    }
   ],
   "source": [
    "x2, y2 = sympy.symbols('x2, y2')\n",
    "z2 = sympy.sqrt(1 - x2**2 - y2**2)\n",
    "\n",
    "lP = sympy.Matrix([x2, y2, z2])\n",
    "print('||lP||^2 =', lP.dot(lP))\n",
    "\n",
    "lP_equations = [\n",
    "    sympy.Eq(lP.dot(lR), -sympy.cos(q)),\n",
    "    sympy.Eq(lP.dot(lQ), -sympy.cos(r)),\n",
    "]\n",
    "\n",
    "S = sympy.solve(lP_equations, x2, y2, dict=True, simplify=True)\n",
    "print('got {} solutions for lP'.format(len(S)))\n",
    "print('\\n'.join([sympy.pretty(sln) for sln in S]))\n",
    "\n",
    "lP = lP.subs(S[0])\n",
    "print('now lP is {}'.format(lP))"
   ]
  },
  {
   "cell_type": "code",
   "execution_count": null,
   "id": "08e8d307-5686-4b60-977b-5a9cca529837",
   "metadata": {},
   "outputs": [],
   "source": [
    "#3.Jacobians for nonlinear least squares"
   ]
  },
  {
   "cell_type": "code",
   "execution_count": null,
   "id": "e7cbfa26-9f2c-4150-bdd7-ddcd4296e084",
   "metadata": {},
   "outputs": [],
   "source": []
  }
 ],
 "metadata": {
  "kernelspec": {
   "display_name": "Python 3",
   "language": "python",
   "name": "python3"
  },
  "language_info": {
   "codemirror_mode": {
    "name": "ipython",
    "version": 3
   },
   "file_extension": ".py",
   "mimetype": "text/x-python",
   "name": "python",
   "nbconvert_exporter": "python",
   "pygments_lexer": "ipython3",
   "version": "3.8.8"
  }
 },
 "nbformat": 4,
 "nbformat_minor": 5
}
